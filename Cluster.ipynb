{
 "cells": [
  {
   "cell_type": "code",
   "execution_count": 1,
   "id": "223be3d2",
   "metadata": {},
   "outputs": [],
   "source": [
    "import numpy\n",
    "from sklearn.manifold import TSNE\n",
    "import matplotlib.pyplot as plt"
   ]
  },
  {
   "cell_type": "code",
   "execution_count": 2,
   "id": "4ea1c264",
   "metadata": {},
   "outputs": [
    {
     "data": {
      "text/plain": [
       "(500, 64)"
      ]
     },
     "execution_count": 2,
     "metadata": {},
     "output_type": "execute_result"
    }
   ],
   "source": [
    "# load 64-dimensional data\n",
    "# the data is 8x8 images of digits\n",
    "\n",
    "from sklearn import datasets\n",
    "digits = datasets.load_digits()\n",
    "# Take the first 500 data points: it's hard to see 1500 points\n",
    "data = digits.data[:500]\n",
    "labels = digits.target[:500]\n",
    "\n",
    "data.shape"
   ]
  },
  {
   "cell_type": "code",
   "execution_count": 5,
   "id": "cd47c320",
   "metadata": {},
   "outputs": [
    {
     "data": {
      "text/plain": [
       "numpy.ndarray"
      ]
     },
     "execution_count": 5,
     "metadata": {},
     "output_type": "execute_result"
    }
   ],
   "source": [
    "type (data)"
   ]
  },
  {
   "cell_type": "code",
   "execution_count": 3,
   "id": "2dff5a4f",
   "metadata": {},
   "outputs": [
    {
     "data": {
      "text/plain": [
       "<matplotlib.image.AxesImage at 0x242a5da5280>"
      ]
     },
     "execution_count": 3,
     "metadata": {},
     "output_type": "execute_result"
    },
    {
     "data": {
      "image/png": "[encoded data removed]",
      "text/plain": [
       "<Figure size 432x288 with 1 Axes>"
      ]
     },
     "metadata": {
      "needs_background": "light"
     },
     "output_type": "display_data"
    }
   ],
   "source": [
    "img = data[0].reshape(8,8)\n",
    "plt.imshow(img)"
   ]
  },
  {
   "cell_type": "code",
   "execution_count": 6,
   "id": "44be7227",
   "metadata": {},
   "outputs": [
    {
     "data": {
      "text/plain": [
       "array([ 5.,  0.,  0.,  7.,  0., 12.,  0.,  7.,  9., 11.,  1.,  0.,  5.,\n",
       "        9.,  0., 12.,  0.,  1., 10.,  6.,  3.,  0.,  8.,  8.,  0., 12.,\n",
       "        1.,  0., 10.,  9., 10.,  2., 13., 13.,  0., 15.,  6., 13.,  7.,\n",
       "        9., 11.,  0.,  0.,  0.,  9.,  9., 15.,  0.,  2.,  1.,  0.,  0.,\n",
       "        3.,  4.,  0.,  2.,  0.,  0.,  0., 10., 10.,  6., 14., 16.,  0.,\n",
       "        0.,  0.,  5.,  0.,  6.,  0., 13.,  1., 12., 13.,  0.,  5.,  0.,\n",
       "       10.,  4.,  0.,  3.,  0., 13., 13.,  0.,  2.,  0.,  0., 13.,  0.,\n",
       "       14.,  9.,  0.,  3.,  0.,  9.,  0., 15.,  1.,  0.,  1., 12., 13.,\n",
       "        0.,  9.,  0.,  0.,  2., 15.,  0.,  1.,  3.,  2.,  4.,  0.,  1.,\n",
       "       15.,  9.,  0.,  6.,  0.,  3.,  5.,  0., 12.,  3.,  5.,  1.,  7.,\n",
       "        2.,  0., 15., 16.,  0., 16.,  2.,  2.,  5.,  5., 12.,  0., 13.,\n",
       "       16.,  0., 15.,  0.,  3.,  3.,  6.,  2.,  0.,  6., 11.,  0., 14.,\n",
       "        0., 10.,  2.,  5.,  5.,  2., 16., 16.,  5., 15.,  5.,  2.,  6.,\n",
       "        6.,  2.,  0.,  0.,  7.,  1., 10., 16.,  0.,  6.,  0.,  7., 12.,\n",
       "        5.,  5., 11.,  2.,  0.,  9.,  4., 12., 15., 15., 10., 14.,  0.,\n",
       "        0.,  1.,  2.,  0.,  6.,  0., 16.,  4., 10., 16.,  3., 10.,  5.,\n",
       "        2.,  0.,  0.,  8.,  3., 14., 10.,  0.,  9., 15.,  0., 12., 11.,\n",
       "        0.,  4.,  0.,  0.,  0., 11.,  0.,  0.,  4., 15.,  5.,  0.,  5.,\n",
       "        3.,  0.,  9., 13.,  0.,  0.,  7., 15.,  2., 15.,  4., 11., 13.,\n",
       "        0.,  3.,  2.,  0.,  7.,  2.,  0.,  3.,  5.,  4.,  0.,  6., 10.,\n",
       "        0.,  6.,  3.,  6.,  1.,  6.,  4.,  0., 10.,  6.,  0., 15.,  0.,\n",
       "        4.,  2.,  4.,  5.,  0., 13.,  8.,  1., 11.,  4.,  4.,  2.,  9.,\n",
       "        2.,  3.,  6.,  3.,  0.,  5.,  9.,  7.,  4.,  4.,  5.,  0.,  7.,\n",
       "        6.,  1.,  7.,  6.,  0.,  2.,  5., 15.,  5.,  3.,  4.,  7.,  4.,\n",
       "        0., 11.,  3., 11.,  7.,  5., 13., 10.,  1.,  2.,  2.,  1.,  4.,\n",
       "        0.,  1.,  2.,  5.,  3.,  5., 11.,  4., 15.,  3.,  7.,  0.,  3.,\n",
       "        0.,  8., 10.,  0.,  3.,  2.,  3., 12.,  0., 10.,  2.,  1.,  6.,\n",
       "        0.,  3.,  0., 12.,  3.,  2.,  3.,  5.,  6.,  1.,  3.,  1.,  8.,\n",
       "        8., 12.,  0.,  0.,  2.,  7.,  7., 15., 13.,  7.,  1.,  0., 10.,\n",
       "        1.,  4.,  3.,  0.,  0.,  5.,  1.,  0.,  9.,  9.,  0.,  7.,  8.,\n",
       "        0., 12.,  1.,  2.,  1.,  7.,  4.,  1.,  7., 10.,  0.,  8.,  2.,\n",
       "        1.,  5.,  5.,  3.,  0.,  9.,  3.,  0.,  6.,  1.,  2.,  1.,  3.,\n",
       "        4.,  5., 14.,  8.,  1., 11., 10.,  9.,  4.,  7.,  5.,  0.,  0.,\n",
       "        1.,  6.,  6.,  3.,  0.,  2.,  2., 11., 12.,  2.,  3.,  7.,  4.,\n",
       "        7.,  7.,  0.,  3.,  3.,  0.,  4.,  5.,  0.,  0.,  2.,  2.,  0.,\n",
       "       10.,  0.,  4.,  3.,  7.,  9., 10.,  1., 13.,  4.,  3.,  0.,  1.,\n",
       "        0.,  7., 11.,  0.,  6.,  0.,  0.,  6.,  0.,  9.,  4.,  0.,  4.,\n",
       "        0.,  4.,  0., 13.,  0.,  0.,  3., 16.,  6.,  0.,  6.,  0.,  0.,\n",
       "        2.,  8.,  0.,  0.,  2., 11.])"
      ]
     },
     "execution_count": 6,
     "metadata": {},
     "output_type": "execute_result"
    }
   ],
   "source": [
    "# show dimension 2 (0-indexed) of all 500 data points\n",
    "data[:,2]"
   ]
  },
  {
   "cell_type": "code",
   "execution_count": 7,
   "id": "b78019da",
   "metadata": {},
   "outputs": [
    {
     "data": {
      "text/plain": [
       "<matplotlib.collections.PathCollection at 0x242a5af5af0>"
      ]
     },
     "execution_count": 7,
     "metadata": {},
     "output_type": "execute_result"
    },
    {
     "data": {
      "image/png": "[encoded data removed]",
      "text/plain": [
       "<Figure size 432x288 with 1 Axes>"
      ]
     },
     "metadata": {
      "needs_background": "light"
     },
     "output_type": "display_data"
    }
   ],
   "source": [
    "# plot dimensions 2 and 3\n",
    "\n",
    "plt.scatter(data[:,2], data[:,3])"
   ]
  },
  {
   "cell_type": "code",
   "execution_count": 8,
   "id": "a70a838e",
   "metadata": {},
   "outputs": [
    {
     "data": {
      "image/png": "[encoded data removed]",
      "text/plain": [
       "<Figure size 432x288 with 1 Axes>"
      ]
     },
     "metadata": {
      "needs_background": "light"
     },
     "output_type": "display_data"
    }
   ],
   "source": [
    "# visualise 3 of 64 dimensions\n",
    "\n",
    "fig = plt.figure()\n",
    "ax = fig.add_subplot(111, projection='3d')\n",
    "ax.scatter(data[:,2], data[:,3], data[:,4], c='r', marker='o')\n",
    "plt.show()"
   ]
  },
  {
   "cell_type": "code",
   "execution_count": 74,
   "id": "2f060953",
   "metadata": {},
   "outputs": [],
   "source": [
    "# create tsne object which will reduce data to 2 dimensions\n",
    "\n",
    "tsne = TSNE(n_components=2, perplexity=20)"
   ]
  },
  {
   "cell_type": "code",
   "execution_count": 73,
   "id": "83d9fc59",
   "metadata": {},
   "outputs": [
    {
     "name": "stdout",
     "output_type": "stream",
     "text": [
      "[['-2.61E-01' '5.35E-02' '-4.96E-01' ... '-5.17E-01' '-7.72E-01'\n",
      "  '-4.51E-02']\n",
      " ['2.04E-01' '-1.10E-01' '-5.81E-01' ... '-2.37E-01' '-4.63E-01'\n",
      "  '2.10E-01']\n",
      " ['-9.90E-02' '-2.19E-02' '2.16E-01' ... '5.44E-01' '-2.24E-01'\n",
      "  '-3.71E-01']\n",
      " ...\n",
      " ['-1.65E-01' '7.50E-02' '2.34E-02' ... '5.94E-02' '3.94E-02' '-9.58E-02']\n",
      " ['-0.10690759' '0.07583286' '0.08437036' ... '0.08615492' '-0.00741883'\n",
      "  '-0.10605289']\n",
      " ['-1.72E-01' '8.47E-02' '8.68E-02' ... '1.61E-01' '-6.13E-02'\n",
      "  '-1.58E-01']]\n"
     ]
    }
   ],
   "source": [
    "array_from_file = numpy.loadtxt(\"C:/Users/Administrator/Desktop/2015/Cogsci_2015_test_vectors.tsv\", dtype=str)\n",
    "print(array_from_file)"
   ]
  },
  {
   "cell_type": "code",
   "execution_count": 75,
   "id": "b261e35a",
   "metadata": {},
   "outputs": [
    {
     "name": "stderr",
     "output_type": "stream",
     "text": [
      "c:\\users\\administrator\\appdata\\local\\programs\\python\\python38\\lib\\site-packages\\sklearn\\manifold\\_t_sne.py:795: FutureWarning: The default initialization in TSNE will change from 'random' to 'pca' in 1.2.\n",
      "  warnings.warn(\n",
      "c:\\users\\administrator\\appdata\\local\\programs\\python\\python38\\lib\\site-packages\\sklearn\\manifold\\_t_sne.py:805: FutureWarning: The default learning rate in TSNE will change from 200.0 to 'auto' in 1.2.\n",
      "  warnings.warn(\n"
     ]
    }
   ],
   "source": [
    "data_2d = tsne.fit_transform(array_from_file)"
   ]
  },
  {
   "cell_type": "code",
   "execution_count": 76,
   "id": "69b26746",
   "metadata": {},
   "outputs": [
    {
     "data": {
      "text/plain": [
       "array([[  6.7611833, -38.816944 ],\n",
       "       [  7.8303065, -23.959631 ],\n",
       "       [-38.973    ,  20.898302 ],\n",
       "       ...,\n",
       "       [  5.871318 ,   8.885631 ],\n",
       "       [-22.515001 ,  19.161133 ],\n",
       "       [-28.526264 ,  18.656416 ]], dtype=float32)"
      ]
     },
     "execution_count": 76,
     "metadata": {},
     "output_type": "execute_result"
    }
   ],
   "source": [
    "data_2d"
   ]
  },
  {
   "cell_type": "code",
   "execution_count": 77,
   "id": "759259fa",
   "metadata": {},
   "outputs": [
    {
     "data": {
      "text/plain": [
       "<matplotlib.collections.PathCollection at 0x1ceee1a85e0>"
      ]
     },
     "execution_count": 77,
     "metadata": {},
     "output_type": "execute_result"
    },
    {
     "data": {
      "image/png": "[encoded data removed]",
      "text/plain": [
       "<Figure size 432x288 with 1 Axes>"
      ]
     },
     "metadata": {
      "needs_background": "light"
     },
     "output_type": "display_data"
    }
   ],
   "source": [
    "# plot tSNE transformed data\n",
    "\n",
    "plt.scatter(data_2d[:,0], data_2d[:,1])"
   ]
  },
  {
   "cell_type": "code",
   "execution_count": 10,
   "id": "84f9284e",
   "metadata": {},
   "outputs": [],
   "source": [
    "from sklearn.cluster import KMeans\n",
    "import pandas as pd\n",
    "from sklearn.preprocessing import MinMaxScaler\n",
    "from matplotlib import pyplot as plt\n",
    "%matplotlib inline"
   ]
  },
  {
   "cell_type": "code",
   "execution_count": 54,
   "id": "b1944687",
   "metadata": {},
   "outputs": [
    {
     "data": {
      "text/plain": [
       "numpy.ndarray"
      ]
     },
     "execution_count": 54,
     "metadata": {},
     "output_type": "execute_result"
    }
   ],
   "source": [
    "type (data_2d)"
   ]
  },
  {
   "cell_type": "code",
   "execution_count": 78,
   "id": "056a130b",
   "metadata": {},
   "outputs": [],
   "source": [
    "df = pd.DataFrame(data_2d, columns = ['Column_A','Column_B'])"
   ]
  },
  {
   "cell_type": "code",
   "execution_count": 79,
   "id": "ed6c38ec",
   "metadata": {},
   "outputs": [
    {
     "data": {
      "text/html": [
       "<div>\n",
       "<style scoped>\n",
       "    .dataframe tbody tr th:only-of-type {\n",
       "        vertical-align: middle;\n",
       "    }\n",
       "\n",
       "    .dataframe tbody tr th {\n",
       "        vertical-align: top;\n",
       "    }\n",
       "\n",
       "    .dataframe thead th {\n",
       "        text-align: right;\n",
       "    }\n",
       "</style>\n",
       "<table border=\"1\" class=\"dataframe\">\n",
       "  <thead>\n",
       "    <tr style=\"text-align: right;\">\n",
       "      <th></th>\n",
       "      <th>Column_A</th>\n",
       "      <th>Column_B</th>\n",
       "    </tr>\n",
       "  </thead>\n",
       "  <tbody>\n",
       "    <tr>\n",
       "      <th>0</th>\n",
       "      <td>6.761183</td>\n",
       "      <td>-38.816944</td>\n",
       "    </tr>\n",
       "    <tr>\n",
       "      <th>1</th>\n",
       "      <td>7.830307</td>\n",
       "      <td>-23.959631</td>\n",
       "    </tr>\n",
       "    <tr>\n",
       "      <th>2</th>\n",
       "      <td>-38.973000</td>\n",
       "      <td>20.898302</td>\n",
       "    </tr>\n",
       "    <tr>\n",
       "      <th>3</th>\n",
       "      <td>-18.565319</td>\n",
       "      <td>-24.412527</td>\n",
       "    </tr>\n",
       "    <tr>\n",
       "      <th>4</th>\n",
       "      <td>33.303318</td>\n",
       "      <td>-23.175570</td>\n",
       "    </tr>\n",
       "    <tr>\n",
       "      <th>...</th>\n",
       "      <td>...</td>\n",
       "      <td>...</td>\n",
       "    </tr>\n",
       "    <tr>\n",
       "      <th>679</th>\n",
       "      <td>-2.383041</td>\n",
       "      <td>-21.331791</td>\n",
       "    </tr>\n",
       "    <tr>\n",
       "      <th>680</th>\n",
       "      <td>5.204713</td>\n",
       "      <td>9.431643</td>\n",
       "    </tr>\n",
       "    <tr>\n",
       "      <th>681</th>\n",
       "      <td>5.871318</td>\n",
       "      <td>8.885631</td>\n",
       "    </tr>\n",
       "    <tr>\n",
       "      <th>682</th>\n",
       "      <td>-22.515001</td>\n",
       "      <td>19.161133</td>\n",
       "    </tr>\n",
       "    <tr>\n",
       "      <th>683</th>\n",
       "      <td>-28.526264</td>\n",
       "      <td>18.656416</td>\n",
       "    </tr>\n",
       "  </tbody>\n",
       "</table>\n",
       "<p>684 rows × 2 columns</p>\n",
       "</div>"
      ],
      "text/plain": [
       "      Column_A   Column_B\n",
       "0     6.761183 -38.816944\n",
       "1     7.830307 -23.959631\n",
       "2   -38.973000  20.898302\n",
       "3   -18.565319 -24.412527\n",
       "4    33.303318 -23.175570\n",
       "..         ...        ...\n",
       "679  -2.383041 -21.331791\n",
       "680   5.204713   9.431643\n",
       "681   5.871318   8.885631\n",
       "682 -22.515001  19.161133\n",
       "683 -28.526264  18.656416\n",
       "\n",
       "[684 rows x 2 columns]"
      ]
     },
     "execution_count": 79,
     "metadata": {},
     "output_type": "execute_result"
    }
   ],
   "source": [
    "df"
   ]
  },
  {
   "cell_type": "code",
   "execution_count": 80,
   "id": "0958f4f3",
   "metadata": {},
   "outputs": [
    {
     "name": "stdout",
     "output_type": "stream",
     "text": [
      "      Column_A   Column_B\n",
      "0     6.761183 -38.816944\n",
      "1     7.830307 -23.959631\n",
      "2   -38.973000  20.898302\n",
      "3   -18.565319 -24.412527\n",
      "4    33.303318 -23.175570\n",
      "..         ...        ...\n",
      "679  -2.383041 -21.331791\n",
      "680   5.204713   9.431643\n",
      "681   5.871318   8.885631\n",
      "682 -22.515001  19.161133\n",
      "683 -28.526264  18.656416\n",
      "\n",
      "[684 rows x 2 columns]\n",
      "<class 'pandas.core.frame.DataFrame'>\n"
     ]
    }
   ],
   "source": [
    "print(df)\n",
    "print(type(df))"
   ]
  },
  {
   "cell_type": "code",
   "execution_count": 16,
   "id": "1e69adbf",
   "metadata": {},
   "outputs": [
    {
     "data": {
      "text/html": [
       "<div>\n",
       "<style scoped>\n",
       "    .dataframe tbody tr th:only-of-type {\n",
       "        vertical-align: middle;\n",
       "    }\n",
       "\n",
       "    .dataframe tbody tr th {\n",
       "        vertical-align: top;\n",
       "    }\n",
       "\n",
       "    .dataframe thead th {\n",
       "        text-align: right;\n",
       "    }\n",
       "</style>\n",
       "<table border=\"1\" class=\"dataframe\">\n",
       "  <thead>\n",
       "    <tr style=\"text-align: right;\">\n",
       "      <th></th>\n",
       "      <th>Column_A</th>\n",
       "      <th>Column_B</th>\n",
       "    </tr>\n",
       "  </thead>\n",
       "  <tbody>\n",
       "    <tr>\n",
       "      <th>0</th>\n",
       "      <td>-44.133186</td>\n",
       "      <td>-14.799359</td>\n",
       "    </tr>\n",
       "    <tr>\n",
       "      <th>1</th>\n",
       "      <td>-44.894989</td>\n",
       "      <td>-14.200936</td>\n",
       "    </tr>\n",
       "    <tr>\n",
       "      <th>2</th>\n",
       "      <td>-44.713257</td>\n",
       "      <td>-14.354070</td>\n",
       "    </tr>\n",
       "    <tr>\n",
       "      <th>3</th>\n",
       "      <td>-45.520931</td>\n",
       "      <td>21.201586</td>\n",
       "    </tr>\n",
       "    <tr>\n",
       "      <th>4</th>\n",
       "      <td>2.281747</td>\n",
       "      <td>-46.465500</td>\n",
       "    </tr>\n",
       "    <tr>\n",
       "      <th>5</th>\n",
       "      <td>2.061610</td>\n",
       "      <td>-46.385284</td>\n",
       "    </tr>\n",
       "    <tr>\n",
       "      <th>6</th>\n",
       "      <td>-20.466093</td>\n",
       "      <td>15.471772</td>\n",
       "    </tr>\n",
       "    <tr>\n",
       "      <th>7</th>\n",
       "      <td>19.940142</td>\n",
       "      <td>33.589298</td>\n",
       "    </tr>\n",
       "    <tr>\n",
       "      <th>8</th>\n",
       "      <td>-20.279488</td>\n",
       "      <td>16.848816</td>\n",
       "    </tr>\n",
       "    <tr>\n",
       "      <th>9</th>\n",
       "      <td>41.144299</td>\n",
       "      <td>21.049223</td>\n",
       "    </tr>\n",
       "    <tr>\n",
       "      <th>10</th>\n",
       "      <td>38.907211</td>\n",
       "      <td>20.144552</td>\n",
       "    </tr>\n",
       "    <tr>\n",
       "      <th>11</th>\n",
       "      <td>40.390099</td>\n",
       "      <td>21.548239</td>\n",
       "    </tr>\n",
       "    <tr>\n",
       "      <th>12</th>\n",
       "      <td>39.458672</td>\n",
       "      <td>21.181166</td>\n",
       "    </tr>\n",
       "    <tr>\n",
       "      <th>13</th>\n",
       "      <td>41.076797</td>\n",
       "      <td>22.005505</td>\n",
       "    </tr>\n",
       "    <tr>\n",
       "      <th>14</th>\n",
       "      <td>39.700825</td>\n",
       "      <td>22.172342</td>\n",
       "    </tr>\n",
       "    <tr>\n",
       "      <th>15</th>\n",
       "      <td>-23.256750</td>\n",
       "      <td>3.687637</td>\n",
       "    </tr>\n",
       "    <tr>\n",
       "      <th>16</th>\n",
       "      <td>-23.368750</td>\n",
       "      <td>2.760713</td>\n",
       "    </tr>\n",
       "    <tr>\n",
       "      <th>17</th>\n",
       "      <td>-24.070642</td>\n",
       "      <td>5.690791</td>\n",
       "    </tr>\n",
       "    <tr>\n",
       "      <th>18</th>\n",
       "      <td>-24.863760</td>\n",
       "      <td>2.958300</td>\n",
       "    </tr>\n",
       "    <tr>\n",
       "      <th>19</th>\n",
       "      <td>-23.960781</td>\n",
       "      <td>0.163381</td>\n",
       "    </tr>\n",
       "    <tr>\n",
       "      <th>20</th>\n",
       "      <td>4.065943</td>\n",
       "      <td>-16.179586</td>\n",
       "    </tr>\n",
       "    <tr>\n",
       "      <th>21</th>\n",
       "      <td>-23.508430</td>\n",
       "      <td>3.277752</td>\n",
       "    </tr>\n",
       "    <tr>\n",
       "      <th>22</th>\n",
       "      <td>-39.651524</td>\n",
       "      <td>4.358423</td>\n",
       "    </tr>\n",
       "    <tr>\n",
       "      <th>23</th>\n",
       "      <td>-24.096348</td>\n",
       "      <td>1.655650</td>\n",
       "    </tr>\n",
       "    <tr>\n",
       "      <th>24</th>\n",
       "      <td>-23.881243</td>\n",
       "      <td>6.615334</td>\n",
       "    </tr>\n",
       "    <tr>\n",
       "      <th>25</th>\n",
       "      <td>-20.382925</td>\n",
       "      <td>17.487881</td>\n",
       "    </tr>\n",
       "  </tbody>\n",
       "</table>\n",
       "</div>"
      ],
      "text/plain": [
       "     Column_A   Column_B\n",
       "0  -44.133186 -14.799359\n",
       "1  -44.894989 -14.200936\n",
       "2  -44.713257 -14.354070\n",
       "3  -45.520931  21.201586\n",
       "4    2.281747 -46.465500\n",
       "5    2.061610 -46.385284\n",
       "6  -20.466093  15.471772\n",
       "7   19.940142  33.589298\n",
       "8  -20.279488  16.848816\n",
       "9   41.144299  21.049223\n",
       "10  38.907211  20.144552\n",
       "11  40.390099  21.548239\n",
       "12  39.458672  21.181166\n",
       "13  41.076797  22.005505\n",
       "14  39.700825  22.172342\n",
       "15 -23.256750   3.687637\n",
       "16 -23.368750   2.760713\n",
       "17 -24.070642   5.690791\n",
       "18 -24.863760   2.958300\n",
       "19 -23.960781   0.163381\n",
       "20   4.065943 -16.179586\n",
       "21 -23.508430   3.277752\n",
       "22 -39.651524   4.358423\n",
       "23 -24.096348   1.655650\n",
       "24 -23.881243   6.615334\n",
       "25 -20.382925  17.487881"
      ]
     },
     "execution_count": 16,
     "metadata": {},
     "output_type": "execute_result"
    }
   ],
   "source": [
    "df.head(26)"
   ]
  },
  {
   "cell_type": "code",
   "execution_count": 81,
   "id": "60b4cad9",
   "metadata": {},
   "outputs": [
    {
     "data": {
      "text/plain": [
       "Text(0, 0.5, 'Y')"
      ]
     },
     "execution_count": 81,
     "metadata": {},
     "output_type": "execute_result"
    },
    {
     "data": {
      "image/png": "[encoded data removed]",
      "text/plain": [
       "<Figure size 432x288 with 1 Axes>"
      ]
     },
     "metadata": {
      "needs_background": "light"
     },
     "output_type": "display_data"
    }
   ],
   "source": [
    "plt.scatter(df.Column_A,df.Column_B)\n",
    "plt.xlabel('X')\n",
    "plt.ylabel('Y')"
   ]
  },
  {
   "cell_type": "code",
   "execution_count": 90,
   "id": "6b9af382",
   "metadata": {},
   "outputs": [
    {
     "data": {
      "text/plain": [
       "array([0, 0, 1, 0, 2, 3, 2, 0, 0, 0, 2, 2, 2, 2, 2, 2, 3, 0, 0, 3, 1, 0,\n",
       "       1, 2, 3, 3, 2, 1, 1, 2, 1, 0, 2, 3, 1, 0, 0, 1, 3, 0, 1, 1, 2, 0,\n",
       "       1, 3, 2, 3, 2, 3, 1, 3, 0, 0, 2, 3, 2, 3, 3, 1, 1, 2, 0, 0, 0, 0,\n",
       "       0, 0, 3, 3, 1, 1, 0, 2, 0, 1, 1, 2, 3, 2, 3, 3, 3, 2, 1, 2, 2, 1,\n",
       "       2, 2, 3, 0, 3, 1, 1, 1, 2, 1, 1, 1, 1, 2, 1, 2, 3, 0, 2, 0, 2, 0,\n",
       "       3, 3, 1, 3, 1, 3, 1, 1, 0, 0, 1, 1, 2, 1, 0, 0, 1, 0, 0, 1, 0, 2,\n",
       "       3, 1, 1, 2, 3, 3, 2, 1, 2, 1, 0, 0, 1, 0, 3, 0, 0, 1, 0, 3, 2, 3,\n",
       "       2, 1, 2, 2, 1, 0, 1, 2, 3, 3, 2, 3, 2, 1, 2, 0, 3, 1, 2, 3, 1, 0,\n",
       "       3, 0, 0, 0, 0, 0, 2, 3, 2, 3, 2, 1, 1, 2, 1, 2, 1, 0, 1, 3, 0, 0,\n",
       "       2, 1, 1, 3, 1, 1, 0, 1, 1, 1, 1, 1, 3, 3, 2, 1, 3, 0, 2, 1, 3, 2,\n",
       "       2, 3, 1, 0, 3, 1, 1, 2, 2, 2, 1, 3, 2, 1, 1, 1, 1, 2, 2, 1, 1, 1,\n",
       "       2, 0, 3, 2, 0, 1, 3, 1, 2, 0, 2, 3, 1, 2, 2, 2, 3, 0, 2, 2, 2, 3,\n",
       "       0, 3, 1, 1, 2, 1, 0, 3, 1, 0, 1, 1, 2, 1, 0, 2, 1, 2, 2, 2, 3, 1,\n",
       "       1, 3, 3, 2, 3, 1, 1, 3, 0, 1, 3, 0, 3, 1, 2, 3, 1, 0, 2, 2, 1, 1,\n",
       "       1, 2, 0, 2, 0, 1, 0, 3, 2, 2, 2, 3, 2, 2, 3, 1, 1, 3, 1, 1, 2, 0,\n",
       "       0, 1, 3, 0, 1, 0, 0, 1, 2, 0, 2, 1, 1, 1, 1, 0, 1, 0, 1, 2, 3, 1,\n",
       "       3, 2, 2, 2, 3, 2, 3, 2, 0, 0, 2, 3, 3, 2, 1, 3, 1, 2, 2, 2, 3, 2,\n",
       "       1, 1, 1, 1, 2, 0, 0, 0, 3, 3, 1, 0, 1, 1, 2, 0, 1, 1, 2, 3, 2, 2,\n",
       "       3, 2, 2, 1, 2, 3, 2, 3, 2, 3, 2, 1, 3, 1, 1, 1, 2, 3, 3, 3, 1, 1,\n",
       "       3, 1, 1, 2, 2, 0, 0, 2, 1, 0, 3, 1, 0, 3, 1, 2, 2, 0, 3, 2, 3, 1,\n",
       "       0, 0, 3, 3, 2, 3, 1, 3, 2, 2, 1, 1, 2, 0, 2, 2, 2, 0, 1, 1, 0, 1,\n",
       "       3, 3, 3, 1, 1, 3, 2, 2, 2, 0, 3, 1, 2, 1, 3, 3, 3, 0, 0, 3, 1, 2,\n",
       "       0, 3, 0, 1, 0, 0, 0, 3, 3, 0, 0, 1, 3, 1, 3, 2, 0, 0, 1, 3, 0, 0,\n",
       "       3, 1, 0, 3, 1, 3, 3, 3, 3, 3, 1, 3, 3, 0, 3, 1, 0, 0, 3, 3, 0, 0,\n",
       "       3, 0, 2, 3, 1, 2, 2, 3, 2, 0, 1, 2, 3, 3, 0, 3, 0, 0, 0, 2, 0, 0,\n",
       "       2, 1, 2, 3, 0, 0, 0, 2, 0, 0, 2, 0, 0, 0, 0, 3, 1, 0, 0, 0, 3, 1,\n",
       "       0, 0, 2, 3, 2, 2, 1, 0, 1, 2, 0, 2, 0, 2, 3, 2, 0, 3, 2, 0, 0, 0,\n",
       "       1, 3, 0, 3, 1, 1, 2, 3, 3, 2, 2, 0, 3, 3, 0, 0, 0, 0, 3, 1, 2, 1,\n",
       "       3, 2, 1, 2, 3, 0, 0, 1, 3, 2, 0, 0, 3, 0, 1, 2, 1, 3, 1, 0, 1, 0,\n",
       "       1, 0, 2, 3, 2, 2, 3, 0, 0, 3, 0, 0, 2, 1, 3, 3, 0, 3, 2, 1, 3, 1,\n",
       "       1, 1, 0, 1, 1, 2, 3, 1, 0, 0, 3, 0, 1, 0, 2, 0, 0, 1, 2, 0, 3, 3,\n",
       "       1, 1])"
      ]
     },
     "execution_count": 90,
     "metadata": {},
     "output_type": "execute_result"
    }
   ],
   "source": [
    "km = KMeans(n_clusters=4)\n",
    "y_predicted = km.fit_predict(df[['Column_A','Column_B']])\n",
    "y_predicted"
   ]
  },
  {
   "cell_type": "code",
   "execution_count": 97,
   "id": "c488d8a5",
   "metadata": {},
   "outputs": [
    {
     "data": {
      "text/html": [
       "<div>\n",
       "<style scoped>\n",
       "    .dataframe tbody tr th:only-of-type {\n",
       "        vertical-align: middle;\n",
       "    }\n",
       "\n",
       "    .dataframe tbody tr th {\n",
       "        vertical-align: top;\n",
       "    }\n",
       "\n",
       "    .dataframe thead th {\n",
       "        text-align: right;\n",
       "    }\n",
       "</style>\n",
       "<table border=\"1\" class=\"dataframe\">\n",
       "  <thead>\n",
       "    <tr style=\"text-align: right;\">\n",
       "      <th></th>\n",
       "      <th>Column_A</th>\n",
       "      <th>Column_B</th>\n",
       "      <th>cluster</th>\n",
       "    </tr>\n",
       "  </thead>\n",
       "  <tbody>\n",
       "    <tr>\n",
       "      <th>0</th>\n",
       "      <td>6.761183</td>\n",
       "      <td>-38.816944</td>\n",
       "      <td>0</td>\n",
       "    </tr>\n",
       "    <tr>\n",
       "      <th>1</th>\n",
       "      <td>7.830307</td>\n",
       "      <td>-23.959631</td>\n",
       "      <td>0</td>\n",
       "    </tr>\n",
       "    <tr>\n",
       "      <th>2</th>\n",
       "      <td>-38.973000</td>\n",
       "      <td>20.898302</td>\n",
       "      <td>1</td>\n",
       "    </tr>\n",
       "    <tr>\n",
       "      <th>3</th>\n",
       "      <td>-18.565319</td>\n",
       "      <td>-24.412527</td>\n",
       "      <td>0</td>\n",
       "    </tr>\n",
       "    <tr>\n",
       "      <th>4</th>\n",
       "      <td>33.303318</td>\n",
       "      <td>-23.175570</td>\n",
       "      <td>2</td>\n",
       "    </tr>\n",
       "    <tr>\n",
       "      <th>5</th>\n",
       "      <td>18.060354</td>\n",
       "      <td>9.912462</td>\n",
       "      <td>3</td>\n",
       "    </tr>\n",
       "    <tr>\n",
       "      <th>6</th>\n",
       "      <td>33.217182</td>\n",
       "      <td>-11.737342</td>\n",
       "      <td>2</td>\n",
       "    </tr>\n",
       "    <tr>\n",
       "      <th>7</th>\n",
       "      <td>-11.100657</td>\n",
       "      <td>-20.791073</td>\n",
       "      <td>0</td>\n",
       "    </tr>\n",
       "    <tr>\n",
       "      <th>8</th>\n",
       "      <td>13.014601</td>\n",
       "      <td>-22.297316</td>\n",
       "      <td>0</td>\n",
       "    </tr>\n",
       "    <tr>\n",
       "      <th>9</th>\n",
       "      <td>1.860530</td>\n",
       "      <td>-22.062490</td>\n",
       "      <td>0</td>\n",
       "    </tr>\n",
       "    <tr>\n",
       "      <th>10</th>\n",
       "      <td>29.709833</td>\n",
       "      <td>-12.719648</td>\n",
       "      <td>2</td>\n",
       "    </tr>\n",
       "    <tr>\n",
       "      <th>11</th>\n",
       "      <td>23.607002</td>\n",
       "      <td>-2.495796</td>\n",
       "      <td>2</td>\n",
       "    </tr>\n",
       "    <tr>\n",
       "      <th>12</th>\n",
       "      <td>17.778231</td>\n",
       "      <td>-7.930524</td>\n",
       "      <td>2</td>\n",
       "    </tr>\n",
       "    <tr>\n",
       "      <th>13</th>\n",
       "      <td>29.868948</td>\n",
       "      <td>-18.185791</td>\n",
       "      <td>2</td>\n",
       "    </tr>\n",
       "    <tr>\n",
       "      <th>14</th>\n",
       "      <td>24.583693</td>\n",
       "      <td>-6.247495</td>\n",
       "      <td>2</td>\n",
       "    </tr>\n",
       "    <tr>\n",
       "      <th>15</th>\n",
       "      <td>26.517038</td>\n",
       "      <td>-14.416794</td>\n",
       "      <td>2</td>\n",
       "    </tr>\n",
       "    <tr>\n",
       "      <th>16</th>\n",
       "      <td>3.693874</td>\n",
       "      <td>14.911352</td>\n",
       "      <td>3</td>\n",
       "    </tr>\n",
       "    <tr>\n",
       "      <th>17</th>\n",
       "      <td>1.159933</td>\n",
       "      <td>-21.252413</td>\n",
       "      <td>0</td>\n",
       "    </tr>\n",
       "    <tr>\n",
       "      <th>18</th>\n",
       "      <td>5.512260</td>\n",
       "      <td>-21.790636</td>\n",
       "      <td>0</td>\n",
       "    </tr>\n",
       "    <tr>\n",
       "      <th>19</th>\n",
       "      <td>-1.416307</td>\n",
       "      <td>14.022004</td>\n",
       "      <td>3</td>\n",
       "    </tr>\n",
       "    <tr>\n",
       "      <th>20</th>\n",
       "      <td>-36.112064</td>\n",
       "      <td>23.074903</td>\n",
       "      <td>1</td>\n",
       "    </tr>\n",
       "    <tr>\n",
       "      <th>21</th>\n",
       "      <td>5.282669</td>\n",
       "      <td>-37.529713</td>\n",
       "      <td>0</td>\n",
       "    </tr>\n",
       "    <tr>\n",
       "      <th>22</th>\n",
       "      <td>-14.390885</td>\n",
       "      <td>25.929419</td>\n",
       "      <td>1</td>\n",
       "    </tr>\n",
       "    <tr>\n",
       "      <th>23</th>\n",
       "      <td>29.332354</td>\n",
       "      <td>4.772508</td>\n",
       "      <td>2</td>\n",
       "    </tr>\n",
       "    <tr>\n",
       "      <th>24</th>\n",
       "      <td>-6.849836</td>\n",
       "      <td>28.402781</td>\n",
       "      <td>3</td>\n",
       "    </tr>\n",
       "    <tr>\n",
       "      <th>25</th>\n",
       "      <td>-8.705170</td>\n",
       "      <td>5.870341</td>\n",
       "      <td>3</td>\n",
       "    </tr>\n",
       "  </tbody>\n",
       "</table>\n",
       "</div>"
      ],
      "text/plain": [
       "     Column_A   Column_B  cluster\n",
       "0    6.761183 -38.816944        0\n",
       "1    7.830307 -23.959631        0\n",
       "2  -38.973000  20.898302        1\n",
       "3  -18.565319 -24.412527        0\n",
       "4   33.303318 -23.175570        2\n",
       "5   18.060354   9.912462        3\n",
       "6   33.217182 -11.737342        2\n",
       "7  -11.100657 -20.791073        0\n",
       "8   13.014601 -22.297316        0\n",
       "9    1.860530 -22.062490        0\n",
       "10  29.709833 -12.719648        2\n",
       "11  23.607002  -2.495796        2\n",
       "12  17.778231  -7.930524        2\n",
       "13  29.868948 -18.185791        2\n",
       "14  24.583693  -6.247495        2\n",
       "15  26.517038 -14.416794        2\n",
       "16   3.693874  14.911352        3\n",
       "17   1.159933 -21.252413        0\n",
       "18   5.512260 -21.790636        0\n",
       "19  -1.416307  14.022004        3\n",
       "20 -36.112064  23.074903        1\n",
       "21   5.282669 -37.529713        0\n",
       "22 -14.390885  25.929419        1\n",
       "23  29.332354   4.772508        2\n",
       "24  -6.849836  28.402781        3\n",
       "25  -8.705170   5.870341        3"
      ]
     },
     "execution_count": 97,
     "metadata": {},
     "output_type": "execute_result"
    }
   ],
   "source": [
    "df['cluster']=y_predicted\n",
    "df.head(26)"
   ]
  },
  {
   "cell_type": "code",
   "execution_count": 92,
   "id": "ce0c446d",
   "metadata": {},
   "outputs": [
    {
     "data": {
      "text/plain": [
       "array([[  1.8285772, -21.389114 ],\n",
       "       [-24.81647  ,  15.705895 ],\n",
       "       [ 24.623716 ,  -7.269644 ],\n",
       "       [  2.198145 ,  11.293067 ]], dtype=float32)"
      ]
     },
     "execution_count": 92,
     "metadata": {},
     "output_type": "execute_result"
    }
   ],
   "source": [
    "km.cluster_centers_"
   ]
  },
  {
   "cell_type": "code",
   "execution_count": 94,
   "id": "bc4bedcf",
   "metadata": {},
   "outputs": [
    {
     "data": {
      "text/plain": [
       "<matplotlib.legend.Legend at 0x1cef096ff40>"
      ]
     },
     "execution_count": 94,
     "metadata": {},
     "output_type": "execute_result"
    },
    {
     "data": {
      "image/png": "[encoded data removed]",
      "text/plain": [
       "<Figure size 432x288 with 1 Axes>"
      ]
     },
     "metadata": {
      "needs_background": "light"
     },
     "output_type": "display_data"
    }
   ],
   "source": [
    "df1 = df[df.cluster==0]\n",
    "df2 = df[df.cluster==1]\n",
    "df3 = df[df.cluster==2]\n",
    "df4 = df[df.cluster==3]\n",
    "#df5 = df[df.cluster==4]\n",
    "#df6 = df[df.cluster==5]\n",
    "\n",
    "\n",
    "plt.scatter(df1.Column_A,df1.Column_B,color='green')\n",
    "plt.scatter(df2.Column_A,df2.Column_B,color='red')\n",
    "plt.scatter(df3.Column_A,df3.Column_B,color='pink')\n",
    "plt.scatter(df4.Column_A,df4.Column_B,color='yellow')\n",
    "#plt.scatter(df5.Column_A,df5.Column_B,color='purple')\n",
    "#plt.scatter(df6.Column_A,df6.Column_B,color='blue')\n",
    "\n",
    "\n",
    "plt.scatter(km.cluster_centers_[:,0],km.cluster_centers_[:,1],color='black',marker='*',label='centroid')\n",
    "plt.xlabel('X')\n",
    "plt.ylabel('Y')\n",
    "plt.legend()"
   ]
  },
  {
   "cell_type": "code",
   "execution_count": 82,
   "id": "da3ce69e",
   "metadata": {},
   "outputs": [],
   "source": [
    "sse = []\n",
    "k_rng = range(1,15)\n",
    "for k in k_rng:\n",
    "    km = KMeans(n_clusters=k)\n",
    "    km.fit(df[['Column_A','Column_B']])\n",
    "    sse.append(km.inertia_)"
   ]
  },
  {
   "cell_type": "code",
   "execution_count": 83,
   "id": "62b917e8",
   "metadata": {},
   "outputs": [
    {
     "name": "stdout",
     "output_type": "stream",
     "text": [
      "141\n",
      "147\n",
      "145\n",
      "206\n",
      "149\n",
      "112\n"
     ]
    }
   ],
   "source": [
    "print(len(df1))\n",
    "print(len(df2))\n",
    "print(len(df3))\n",
    "print(len(df4))\n",
    "print(len(df5))\n",
    "print(len(df6))"
   ]
  },
  {
   "cell_type": "code",
   "execution_count": 96,
   "id": "d12d8e95",
   "metadata": {},
   "outputs": [
    {
     "data": {
      "text/html": [
       "<div>\n",
       "<style scoped>\n",
       "    .dataframe tbody tr th:only-of-type {\n",
       "        vertical-align: middle;\n",
       "    }\n",
       "\n",
       "    .dataframe tbody tr th {\n",
       "        vertical-align: top;\n",
       "    }\n",
       "\n",
       "    .dataframe thead th {\n",
       "        text-align: right;\n",
       "    }\n",
       "</style>\n",
       "<table border=\"1\" class=\"dataframe\">\n",
       "  <thead>\n",
       "    <tr style=\"text-align: right;\">\n",
       "      <th></th>\n",
       "      <th>Column_A</th>\n",
       "      <th>Column_B</th>\n",
       "      <th>cluster</th>\n",
       "    </tr>\n",
       "  </thead>\n",
       "  <tbody>\n",
       "    <tr>\n",
       "      <th>0</th>\n",
       "      <td>6.761183</td>\n",
       "      <td>-38.816944</td>\n",
       "      <td>0</td>\n",
       "    </tr>\n",
       "    <tr>\n",
       "      <th>1</th>\n",
       "      <td>7.830307</td>\n",
       "      <td>-23.959631</td>\n",
       "      <td>0</td>\n",
       "    </tr>\n",
       "    <tr>\n",
       "      <th>3</th>\n",
       "      <td>-18.565319</td>\n",
       "      <td>-24.412527</td>\n",
       "      <td>0</td>\n",
       "    </tr>\n",
       "    <tr>\n",
       "      <th>7</th>\n",
       "      <td>-11.100657</td>\n",
       "      <td>-20.791073</td>\n",
       "      <td>0</td>\n",
       "    </tr>\n",
       "    <tr>\n",
       "      <th>8</th>\n",
       "      <td>13.014601</td>\n",
       "      <td>-22.297316</td>\n",
       "      <td>0</td>\n",
       "    </tr>\n",
       "    <tr>\n",
       "      <th>9</th>\n",
       "      <td>1.860530</td>\n",
       "      <td>-22.062490</td>\n",
       "      <td>0</td>\n",
       "    </tr>\n",
       "  </tbody>\n",
       "</table>\n",
       "</div>"
      ],
      "text/plain": [
       "    Column_A   Column_B  cluster\n",
       "0   6.761183 -38.816944        0\n",
       "1   7.830307 -23.959631        0\n",
       "3 -18.565319 -24.412527        0\n",
       "7 -11.100657 -20.791073        0\n",
       "8  13.014601 -22.297316        0\n",
       "9   1.860530 -22.062490        0"
      ]
     },
     "execution_count": 96,
     "metadata": {},
     "output_type": "execute_result"
    }
   ],
   "source": [
    "df1.head(6)"
   ]
  },
  {
   "cell_type": "code",
   "execution_count": 85,
   "id": "ff8bf23d",
   "metadata": {},
   "outputs": [
    {
     "data": {
      "text/plain": [
       "[<matplotlib.lines.Line2D at 0x1ceee23f0a0>]"
      ]
     },
     "execution_count": 85,
     "metadata": {},
     "output_type": "execute_result"
    },
    {
     "data": {
      "image/png": "[encoded data removed]",
      "text/plain": [
       "<Figure size 432x288 with 1 Axes>"
      ]
     },
     "metadata": {
      "needs_background": "light"
     },
     "output_type": "display_data"
    }
   ],
   "source": [
    "plt.xlabel('K')\n",
    "plt.ylabel('Sum of squared error')\n",
    "plt.plot(k_rng,sse)"
   ]
  },
  {
   "cell_type": "code",
   "execution_count": null,
   "id": "57107929",
   "metadata": {},
   "outputs": [],
   "source": []
  },
  {
   "cell_type": "code",
   "execution_count": null,
   "id": "cf54390b",
   "metadata": {},
   "outputs": [],
   "source": []
  },
  {
   "cell_type": "code",
   "execution_count": 31,
   "id": "18ee13b9",
   "metadata": {},
   "outputs": [],
   "source": [
    "import pandas as pd\n",
    "from sklearn.cluster import DBSCAN\n",
    "dbscan=DBSCAN(eps=3,min_samples=5)\n",
    "model=dbscan.fit(data_2d)\n",
    "labels=model.labels_"
   ]
  },
  {
   "cell_type": "code",
   "execution_count": 32,
   "id": "b7b1966e",
   "metadata": {},
   "outputs": [
    {
     "data": {
      "text/plain": [
       "array([19,  2,  0, 15,  0,  1,  1,  2, -1,  3,  2,  1,  4,  5,  4,  1,  6,\n",
       "        7, 21,  8,  9,  2, -1,  1,  8, 10,  1, 10, 10,  5,  5, 10,  1,  5,\n",
       "       22,  1,  2,  5,  5,  2, -1,  5,  2, -1,  5,  2,  2, 10, 11, 10, 10,\n",
       "        2,  4,  2,  4,  1, 16,  5,  4, -1,  5,  2,  2, 10,  1, 10,  1, 10,\n",
       "       10, -1, -1, 12,  4, -1,  5, 19,  5,  5, 13,  2, 14,  2,  5,  2, 12,\n",
       "       24,  1,  2,  2, 10, 10,  2,  5,  1,  5,  2,  0, 10, 10, 10,  1, 10,\n",
       "       10, 10, 10, 10, 10,  3,  3,  2,  1,  8,  1,  5,  2,  5,  2, 10, 10,\n",
       "       10, 10, -1, -1, 20, 22, 10, 10, -1,  5, 13, 10,  3,  8,  8, -1, 15,\n",
       "        5,  5,  1, 13, -1,  1,  2, 23,  2,  2, 19,  2, -1,  2,  5, -1, 20,\n",
       "        1,  3,  0,  0,  3, 16, 17,  2,  2, -1,  1,  8,  1,  2,  0, -1,  8,\n",
       "       -1,  0, 13, -1,  5, -1,  2,  9,  1,  5, 10,  5, 10,  2,  3,  5,  6,\n",
       "        1, 10, 10,  2, 10,  2,  7,  7, -1,  1, -1,  2, 16,  2,  8,  5,  9,\n",
       "        2,  2, -1,  9, 10, 18, 10, 24,  1,  5,  2,  5,  0, 10,  5,  8,  8,\n",
       "       19, -1,  1,  0, 21, 10,  2, -1, 10,  5, 23,  4,  9, 10, 12,  2,  1,\n",
       "        9, -1,  8,  0,  5,  9,  1, -1,  5,  2, 10,  2,  2, 21,  3, 20,  1,\n",
       "        2, 10,  4, 21,  1,  2,  5,  6,  0, 14,  2,  3,  3, 10, 10,  5, 13,\n",
       "        0,  4,  1,  0,  9,  5,  0, -1,  5,  5,  9,  2, 13,  5, 18, 14,  2,\n",
       "        1, 10,  2,  2,  3, 20,  2,  1, -1, 10,  8,  2,  1,  2,  4, 21,  3,\n",
       "        1,  1, 15,  2,  7,  5, 12,  5, 10,  8, 10, 15,  7,  2, 17, 22,  5,\n",
       "       21, 10, 10, 10,  1,  7,  3,  9,  2,  5,  2,  2,  2,  2, 21, -1,  2,\n",
       "       10,  5, 20,  8,  9,  8,  2,  4,  8, 10,  3,  5,  0,  6,  2, 18,  5,\n",
       "       10,  7,  2, 10,  4,  3, -1,  2,  4,  2,  3,  1,  2,  8,  1,  1,  5,\n",
       "        7, 16,  2,  2, 10, 13,  3,  2,  9,  3,  2, 10,  9,  1, 10, -1,  1,\n",
       "       20,  2,  2,  1, 17, 10, 13,  2,  5,  2,  9,  7, 18,  2,  4, 13, 20,\n",
       "        4,  7,  1,  1,  2,  3, 10,  5,  8,  2,  8,  9,  0, -1, 10,  2,  2,\n",
       "        9,  7,  1, -1,  1,  2, 10,  5, 13,  2, 10, 10,  2,  5,  3,  2,  6,\n",
       "        2, 10, 10,  2, 10, 23,  9,  2, 10, 14, 14, 10,  5,  1,  9, 13,  5,\n",
       "        9,  2,  4, 17,  1,  0, -1, -1,  1,  9, 19,  3,  5,  1,  2, 10, 22,\n",
       "        1,  2,  0,  2,  2,  1, 20,  6, 14, 10,  8,  2, 10,  6,  2,  2, 10,\n",
       "       10, 10,  3, -1,  3,  5,  1,  5, 10,  1,  1, -1,  2,  1, 10, 14,  2,\n",
       "       23,  5,  2, 10,  5,  1, 10, -1,  0,  5,  2,  1, 10, 13,  0,  2, 10,\n",
       "        7, 21,  2,  2, -1, 10,  4, 10,  2, 10, 10,  9,  6,  5,  1, 21, 10,\n",
       "        2,  4, 14,  5, 14, -1,  0, -1, -1, 10,  1,  2,  2,  8,  4, 10, 20,\n",
       "        2,  2, 12,  3,  2, 24,  1, 11,  2,  2, -1, 15,  3, 22, -1,  9, 13,\n",
       "       15,  0,  0, 15,  2,  2,  0,  1,  2,  1,  5, 20,  2,  2, 10,  9,  6,\n",
       "        0, 13, 10, -1,  5,  5,  1,  2, 13,  2,  1,  8,  0,  2,  2,  2,  2,\n",
       "        3,  2,  9, 10,  2, 10,  2, 18,  3,  2,  1,  2,  8, -1, 10, 15,  2,\n",
       "        5,  2, -1, 20,  2, 10, 20,  2,  2,  2, -1,  5,  1,  7, -1,  2, 14,\n",
       "       16,  2, 13,  0,  2,  7,  2,  8, 19, 10,  2,  5,  8,  2, 11,  2,  3,\n",
       "       10, 10,  5,  5, 10,  0, 24, -1, 10,  5, 10,  2, 10,  1, 10, 10,  2,\n",
       "       10,  2,  2,  2,  2,  2,  8, 16,  9, 10,  2,  1,  8, 10,  2,  5, 10,\n",
       "        8,  2,  2,  2,  2,  1,  8,  9, 16,  4,  2, 10,  2,  5,  4, -1, 12,\n",
       "        2,  2,  2,  0, 12,  9,  5, -1,  3, 21,  5,  5,  3,  3, 10,  3,  0,\n",
       "        7, 20,  5,  2, 10,  9,  3,  2, 10, 17,  2,  9, 13, 10,  5,  3, 10,\n",
       "       10, -1, 10, -1, 10,  2,  8,  3, -1,  9,  1, 20,  2,  2, 11,  1,  4,\n",
       "        2, 10,  5,  5, 24,  1, 10, 10,  2,  5,  9,  0,  5,  9,  6,  2, 10,\n",
       "        1,  8,  1,  5, 10,  1, 12, -1, 10,  0,  8,  1, 10,  1,  9, -1,  1,\n",
       "       10,  4, 14,  2,  5,  1,  2, 10,  5, 10, 10,  2, -1,  0, 10, 10,  8,\n",
       "       10, 10,  1,  1,  8,  2,  5, 11, 10,  5,  9,  5,  5, 13,  6, 10, -1,\n",
       "        5,  2, -1,  0,  0, -1,  3,  2, 10, 21, 10, 10,  4, 10,  9,  2,  0,\n",
       "        2,  9, 10,  2, 10, 20,  2, 10,  5,  2, 10, 10,  2,  2,  2, 21,  2,\n",
       "        3, 16,  9,  3,  2,  2,  5], dtype=int64)"
      ]
     },
     "execution_count": 32,
     "metadata": {},
     "output_type": "execute_result"
    }
   ],
   "source": [
    "labels"
   ]
  },
  {
   "cell_type": "code",
   "execution_count": 33,
   "id": "69caab7d",
   "metadata": {},
   "outputs": [],
   "source": [
    "from sklearn import metrics\n",
    "sample_cores=numpy.zeros_like(labels,dtype=bool)\n",
    "sample_cores[dbscan.core_sample_indices_]=True\n",
    "n_clusters=len(set(labels))-(1 if -1 in labels else 0)"
   ]
  },
  {
   "cell_type": "code",
   "execution_count": 34,
   "id": "e5d515fb",
   "metadata": {},
   "outputs": [
    {
     "data": {
      "text/plain": [
       "25"
      ]
     },
     "execution_count": 34,
     "metadata": {},
     "output_type": "execute_result"
    }
   ],
   "source": [
    "n_clusters"
   ]
  },
  {
   "cell_type": "code",
   "execution_count": 17,
   "id": "84b9ab9b",
   "metadata": {},
   "outputs": [
    {
     "ename": "IndexError",
     "evalue": "boolean index did not match indexed array along dimension 0; dimension is 874 but corresponding boolean dimension is 500",
     "output_type": "error",
     "traceback": [
      "\u001b[1;31m---------------------------------------------------------------------------\u001b[0m",
      "\u001b[1;31mIndexError\u001b[0m                                Traceback (most recent call last)",
      "Input \u001b[1;32mIn [17]\u001b[0m, in \u001b[0;36m<cell line: 8>\u001b[1;34m()\u001b[0m\n\u001b[0;32m      6\u001b[0m colours \u001b[38;5;241m=\u001b[39m [\u001b[38;5;124m'\u001b[39m\u001b[38;5;124mr\u001b[39m\u001b[38;5;124m'\u001b[39m, \u001b[38;5;124m'\u001b[39m\u001b[38;5;124mg\u001b[39m\u001b[38;5;124m'\u001b[39m, \u001b[38;5;124m'\u001b[39m\u001b[38;5;124mb\u001b[39m\u001b[38;5;124m'\u001b[39m, \u001b[38;5;124m'\u001b[39m\u001b[38;5;124mc\u001b[39m\u001b[38;5;124m'\u001b[39m, \u001b[38;5;124m'\u001b[39m\u001b[38;5;124mm\u001b[39m\u001b[38;5;124m'\u001b[39m, \u001b[38;5;124m'\u001b[39m\u001b[38;5;124my\u001b[39m\u001b[38;5;124m'\u001b[39m, \u001b[38;5;124m'\u001b[39m\u001b[38;5;124mk\u001b[39m\u001b[38;5;124m'\u001b[39m, \u001b[38;5;124m'\u001b[39m\u001b[38;5;124mpink\u001b[39m\u001b[38;5;124m'\u001b[39m, \u001b[38;5;124m'\u001b[39m\u001b[38;5;124morange\u001b[39m\u001b[38;5;124m'\u001b[39m, \u001b[38;5;124m'\u001b[39m\u001b[38;5;124mpurple\u001b[39m\u001b[38;5;124m'\u001b[39m]\n\u001b[0;32m      8\u001b[0m \u001b[38;5;28;01mfor\u001b[39;00m i, c, label \u001b[38;5;129;01min\u001b[39;00m \u001b[38;5;28mzip\u001b[39m(target_ids, colours, digits\u001b[38;5;241m.\u001b[39mtarget_names):\n\u001b[1;32m----> 9\u001b[0m     plt\u001b[38;5;241m.\u001b[39mscatter(\u001b[43mdata_2d\u001b[49m\u001b[43m[\u001b[49m\u001b[43mlabels\u001b[49m\u001b[43m \u001b[49m\u001b[38;5;241;43m==\u001b[39;49m\u001b[43m \u001b[49m\u001b[43mi\u001b[49m\u001b[43m,\u001b[49m\u001b[43m \u001b[49m\u001b[38;5;241;43m0\u001b[39;49m\u001b[43m]\u001b[49m, data_2d[labels \u001b[38;5;241m==\u001b[39m i, \u001b[38;5;241m1\u001b[39m], c\u001b[38;5;241m=\u001b[39mc, label\u001b[38;5;241m=\u001b[39mlabel)\n\u001b[0;32m     10\u001b[0m     \u001b[38;5;28;01mpass\u001b[39;00m\n\u001b[0;32m     12\u001b[0m plt\u001b[38;5;241m.\u001b[39mlegend()\n",
      "\u001b[1;31mIndexError\u001b[0m: boolean index did not match indexed array along dimension 0; dimension is 874 but corresponding boolean dimension is 500"
     ]
    },
    {
     "data": {
      "text/plain": [
       "<Figure size 720x576 with 0 Axes>"
      ]
     },
     "metadata": {},
     "output_type": "display_data"
    }
   ],
   "source": [
    "# visualise again and highlight actual classes of data\n",
    "\n",
    "target_ids = range(len(digits.target_names))\n",
    "\n",
    "plt.figure(figsize=(10, 8))\n",
    "colours = ['r', 'g', 'b', 'c', 'm', 'y', 'k', 'pink', 'orange', 'purple']\n",
    "\n",
    "for i, c, label in zip(target_ids, colours, digits.target_names):\n",
    "    plt.scatter(data_2d[labels == i, 0], data_2d[labels == i, 1], c=c, label=label)\n",
    "    pass\n",
    "\n",
    "plt.legend()\n",
    "plt.show()"
   ]
  },
  {
   "cell_type": "code",
   "execution_count": null,
   "id": "cee68afd",
   "metadata": {},
   "outputs": [],
   "source": []
  }
 ],
 "metadata": {
  "kernelspec": {
   "display_name": "Python 3 (ipykernel)",
   "language": "python",
   "name": "python3"
  },
  "language_info": {
   "codemirror_mode": {
    "name": "ipython",
    "version": 3
   },
   "file_extension": ".py",
   "mimetype": "text/x-python",
   "name": "python",
   "nbconvert_exporter": "python",
   "pygments_lexer": "ipython3",
   "version": "3.8.10"
  }
 },
 "nbformat": 4,
 "nbformat_minor": 5
}
